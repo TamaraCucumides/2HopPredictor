{
 "cells": [
  {
   "cell_type": "code",
   "execution_count": 6,
   "id": "713b660a-d0f3-4f5a-9a77-530b6bb99bbe",
   "metadata": {},
   "outputs": [],
   "source": [
    "import os\n",
    "from collections import Counter\n",
    "import numpy as np\n"
   ]
  },
  {
   "cell_type": "code",
   "execution_count": 7,
   "id": "051e4309-eafa-4425-8f79-811a7cffa599",
   "metadata": {},
   "outputs": [],
   "source": [
    "# Read KG's files\n",
    "\n",
    "path = os.getcwd()\n",
    "\n",
    "data_path = os.path.join(path, \"data\\\\fb15k-237\") \n",
    "\n",
    "train_path = os.path.join(data_path, \"train.txt\")\n",
    "valid_path = os.path.join(data_path, \"valid.txt\")\n",
    "test_path = os.path.join(data_path, \"test.txt\")"
   ]
  },
  {
   "cell_type": "code",
   "execution_count": 8,
   "id": "4babc619-22ff-4569-adc3-e283737a9577",
   "metadata": {},
   "outputs": [],
   "source": [
    "# Get top-10 relations\n",
    "\n",
    "def get_most_frequent(file_path, k):\n",
    "    # Counter for the last position\n",
    "    last_position = Counter()\n",
    "    \n",
    "    # Read the file\n",
    "    with open(file_path, 'r') as file:\n",
    "        for line in file:\n",
    "            numbers = line.strip().split()\n",
    "            if len(numbers) != 3:\n",
    "                continue  # Skip lines that do not have exactly 3 numbers\n",
    "            # Update counter for the last position\n",
    "            last_position[numbers[1]] += 1\n",
    "    \n",
    "    # Get the k most common numbers for the last position\n",
    "    most_common_last = last_position.most_common(k)\n",
    "    return most_common_last"
   ]
  },
  {
   "cell_type": "code",
   "execution_count": 9,
   "id": "b257793a-ebc7-4a12-81db-e6cdcd4bc949",
   "metadata": {},
   "outputs": [],
   "source": [
    "def populate_matrix(file_path, relations, matrix):\n",
    "    with open(file_path, 'r') as file:\n",
    "        m = np.zeros((1500,1500))\n",
    "        for line in file:\n",
    "            numbers = line.strip().split()\n",
    "            if len(numbers) != 3:\n",
    "                continue\n",
    "            if int(numbers[1]) == r:\n",
    "                m[numbers[0],numbers[2]]"
   ]
  },
  {
   "cell_type": "code",
   "execution_count": 10,
   "id": "6cc641ca-9eee-46a1-8845-39d41d1bea73",
   "metadata": {},
   "outputs": [
    {
     "name": "stdout",
     "output_type": "stream",
     "text": [
      "Most frequent numbers in the last position: [('16', 15989), ('17', 15989), ('26', 12893), ('27', 12893), ('38', 12157), ('39', 12157), ('34', 10945), ('35', 10945), ('12', 9494), ('13', 9494), ('14', 9465), ('15', 9465), ('6', 8423), ('7', 8423), ('62', 7268), ('63', 7268), ('76', 6277), ('77', 6277), ('40', 5880), ('41', 5880)]\n"
     ]
    }
   ],
   "source": [
    "k = 20  \n",
    "result = get_most_frequent(train_path, k)\n",
    "\n",
    "# Print the results\n",
    "print(\"Most frequent numbers in the last position:\", result)\n",
    "\n",
    "relations = [16,26,38,34,12,14,6,62,76,40]"
   ]
  },
  {
   "cell_type": "code",
   "execution_count": 11,
   "id": "27462a45-ed6c-4662-be36-8a4a4f24df35",
   "metadata": {},
   "outputs": [],
   "source": [
    "# Create matrix for 10 relations\n",
    "\n",
    "matrix_dict = {}\n",
    "\n",
    "for r in relations:\n",
    "    matrix_dict[r] = np.zeros((15000,15000), dtype=\"int8\")\n",
    "\n",
    "with open(train_path, 'r') as file:\n",
    "    for line in file:\n",
    "        numbers = line.strip().split()\n",
    "        if len(numbers) != 3:\n",
    "            continue\n",
    "        if int(numbers[1]) in relations:\n",
    "            m = matrix_dict[int(numbers[1])]\n",
    "            m[int(numbers[0]),int(numbers[2])] = 1"
   ]
  },
  {
   "cell_type": "code",
   "execution_count": 12,
   "id": "18fa5838-8dc0-4638-9689-211f33d9451e",
   "metadata": {},
   "outputs": [
    {
     "data": {
      "text/plain": [
       "np.int64(15989)"
      ]
     },
     "execution_count": 12,
     "metadata": {},
     "output_type": "execute_result"
    }
   ],
   "source": [
    "matrix_dict[16].sum()"
   ]
  },
  {
   "cell_type": "code",
   "execution_count": 13,
   "id": "4f013507-3379-4ed8-9678-249dd51255b6",
   "metadata": {},
   "outputs": [],
   "source": [
    "# load matrix\n",
    "def get_ones(matrix, row_index):\n",
    "    one_positions = np.where(matrix[row_index] == 1)[0]\n",
    "    return one_positions"
   ]
  },
  {
   "cell_type": "code",
   "execution_count": 25,
   "id": "5c7e25a4-1c7d-4afc-bae9-ff6ba28c463d",
   "metadata": {},
   "outputs": [
    {
     "name": "stdout",
     "output_type": "stream",
     "text": [
      "16 16 762\n",
      "16 38 725\n",
      "16 34 763\n",
      "16 12 589\n",
      "16 6 720\n",
      "16 76 629\n",
      "38 14 964\n",
      "12 26 409\n",
      "12 62 690\n",
      "6 16 507\n",
      "6 38 507\n",
      "6 34 539\n",
      "6 12 307\n",
      "6 6 531\n",
      "6 76 415\n",
      "76 26 254\n",
      "76 62 581\n"
     ]
    }
   ],
   "source": [
    "# Training queries\n",
    "min_answers = 2\n",
    "\n",
    "for r1 in relations:\n",
    "    m1 = matrix_dict[r1]\n",
    "    for r2 in relations:\n",
    "        contador = 0\n",
    "        m2 = matrix_dict[r2]\n",
    "        anchors = np.random.randint(0, 14542, size=5000)\n",
    "        for a in anchors:\n",
    "            answers = set()\n",
    "            a_r1 = get_ones(m1, a)\n",
    "            for i in a_r1:\n",
    "                a_r1r2 = get_ones(m2, i)\n",
    "                answers.update(a_r1r2)\n",
    "            if len(answers) >= min_answers:\n",
    "                contador += 1\n",
    "        if contador >= 250:\n",
    "            print(r1, r2, contador)\n",
    "                "
   ]
  },
  {
   "cell_type": "code",
   "execution_count": null,
   "id": "b16ad4b2-0ffd-4329-b218-3c8d59fc605e",
   "metadata": {},
   "outputs": [],
   "source": []
  }
 ],
 "metadata": {
  "kernelspec": {
   "display_name": "Python 3 (ipykernel)",
   "language": "python",
   "name": "python3"
  },
  "language_info": {
   "codemirror_mode": {
    "name": "ipython",
    "version": 3
   },
   "file_extension": ".py",
   "mimetype": "text/x-python",
   "name": "python",
   "nbconvert_exporter": "python",
   "pygments_lexer": "ipython3",
   "version": "3.13.1"
  }
 },
 "nbformat": 4,
 "nbformat_minor": 5
}
